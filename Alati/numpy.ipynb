{
 "cells": [
  {
   "cell_type": "markdown",
   "metadata": {},
   "source": [
    "Da bi mogli raditi sa modulom numpy moramo ga \n",
    "prvo importovati, to ćemo učiniti u ćeliji ispod"
   ]
  },
  {
   "cell_type": "code",
   "execution_count": 1,
   "metadata": {},
   "outputs": [],
   "source": [
    "import numpy as np"
   ]
  },
  {
   "cell_type": "markdown",
   "metadata": {},
   "source": [
    "import - je ključna riječ pomoću koje uvodimo modul u svesku,\n",
    "numpy - je naziv modula\n",
    "\n",
    "as - ključna riječ je kada želimo dati skraćenicu nekom objektu, u našem slučaju je to modul numpy\n",
    "\n",
    "np - je skraćenica modulu numpy"
   ]
  },
  {
   "cell_type": "markdown",
   "metadata": {},
   "source": [
    "## Počinjemo raditi sa numpy-em"
   ]
  },
  {
   "cell_type": "markdown",
   "metadata": {},
   "source": [
    "Numpy se najviše koristi za rad sa listama, matricama i tensorima, pa ćemo krenuti od toga"
   ]
  },
  {
   "cell_type": "code",
   "execution_count": 2,
   "metadata": {},
   "outputs": [],
   "source": [
    "lista = [1, 2, 3, 4, 5, 6, 7, 8, 9, 10] # listu u pythonu pravimo sa uglastim zagradama"
   ]
  },
  {
   "cell_type": "markdown",
   "metadata": {},
   "source": [
    "Da bi mogli koristiti napravljenu listu u numpy-u moramo joj dati numpy strukturu podatka odnosno numpy array"
   ]
  },
  {
   "cell_type": "code",
   "execution_count": 3,
   "metadata": {},
   "outputs": [],
   "source": [
    "lista_numpy = np.array(lista, dtype=np.int32)"
   ]
  },
  {
   "cell_type": "markdown",
   "metadata": {},
   "source": [
    "np - je naša skraćenica za numpy\n",
    "\n",
    "array - je funkcija numpy-a koja će našu listu pretvoriti u numpy array\n",
    "\n",
    "dtype - je vrsta podatka koju želimo dodjeliti našoj listi, oni koji se do sada nisu susretali sa tipovima podataka, int je podatak koji nema decimala, float je tip podatka koji ima decimale te ima veći opseg vrijednosti nego int"
   ]
  },
  {
   "cell_type": "markdown",
   "metadata": {},
   "source": [
    "Hajmo kreriati još numpy array-a, ali sa različitim dimenzijama"
   ]
  },
  {
   "cell_type": "code",
   "execution_count": 4,
   "metadata": {},
   "outputs": [],
   "source": [
    "dvodimenzijalni_array = np.array([\n",
    "    [1, 2, 3, 4, 5],\n",
    "    [6, 7, 8, 9, 10]\n",
    "])"
   ]
  },
  {
   "cell_type": "code",
   "execution_count": 5,
   "metadata": {},
   "outputs": [],
   "source": [
    "trodimenzijalni_array = np.array(\n",
    "    [[1, 2, 3, 4, 5],\n",
    "     [6, 7, 8, 9, 10],\n",
    "     [11, 12, 13, 14, 15]]\n",
    ")"
   ]
  },
  {
   "cell_type": "markdown",
   "metadata": {},
   "source": [
    "Zašto ovo radimo? Pa zato jer će nam trebati u budućnosti kada budemo trebali kreirati vlastite strukture podataka koje će biti tražene od nas kako bi ih mogli ubaciti u algoritam da bi dobili naša riješenja"
   ]
  },
  {
   "cell_type": "markdown",
   "metadata": {},
   "source": [
    "Da bi provjerili dimenzionalnost našeg array-a u nastavku naziva varijable dodajemo nastavak .shape"
   ]
  },
  {
   "cell_type": "code",
   "execution_count": 6,
   "metadata": {},
   "outputs": [
    {
     "name": "stdout",
     "output_type": "stream",
     "text": [
      "Jednodimenzionalni_array(lista_numpy): (10,)\n",
      "Dvodimenzionalni_array: (2, 5)\n",
      "Trodimenzijalnu_array: (3, 5)\n"
     ]
    }
   ],
   "source": [
    "print(f\"Jednodimenzionalni_array(lista_numpy): {lista_numpy.shape}\")\n",
    "print(f\"Dvodimenzionalni_array: {dvodimenzijalni_array.shape}\")\n",
    "print(f\"Trodimenzijalnu_array: {trodimenzijalni_array.shape}\")"
   ]
  },
  {
   "cell_type": "markdown",
   "metadata": {},
   "source": [
    "Ako želimo ispisati nešto na ekranu koristimo print(), ako želimo ubaciti varijablu u print(f\"\") dodajemo f\"{naziv varijable}\", zapamtite da za svaki naziv varijable moramo imati prvo vitičaste zagrade i unutar njih naziv varijable\n",
    "\n",
    "Prvi broj u zagradi je dimenzija, a drugi broj ćelija koji posjeduje"
   ]
  },
  {
   "cell_type": "code",
   "execution_count": 7,
   "metadata": {},
   "outputs": [
    {
     "name": "stdout",
     "output_type": "stream",
     "text": [
      "Jednodimenzionalni array:\n",
      " [ 1  2  3  4  5  6  7  8  9 10]\n",
      "\n",
      "Dvodimenzionalni array:\n",
      " [[ 1  2  3  4  5]\n",
      " [ 6  7  8  9 10]]\n",
      "\n",
      "Trodimenzionalni array:\n",
      " [[ 1  2  3  4  5]\n",
      " [ 6  7  8  9 10]\n",
      " [11 12 13 14 15]]\n",
      "\n"
     ]
    }
   ],
   "source": [
    "print(f\"Jednodimenzionalni array:\\n {lista_numpy}\\n\") # \\n predstavlja novi red\n",
    "print(f\"Dvodimenzionalni array:\\n {dvodimenzijalni_array}\\n\")\n",
    "print(f\"Trodimenzionalni array:\\n {trodimenzijalni_array}\\n\")"
   ]
  },
  {
   "cell_type": "code",
   "execution_count": null,
   "metadata": {},
   "outputs": [],
   "source": []
  },
  {
   "cell_type": "markdown",
   "metadata": {},
   "source": [
    "Da bi promjenili dimenzionalnost array-u koristimo funkciju .reshape"
   ]
  },
  {
   "cell_type": "code",
   "execution_count": 8,
   "metadata": {},
   "outputs": [
    {
     "name": "stdout",
     "output_type": "stream",
     "text": [
      "[[ 1  2  3  4  5  6  7  8  9 10]]\n"
     ]
    }
   ],
   "source": [
    "print(dvodimenzijalni_array.reshape(1, 10))"
   ]
  },
  {
   "cell_type": "markdown",
   "metadata": {},
   "source": [
    "Uz numyp dobijamo i neke generičke funkcije kao što su min, max, sum, average"
   ]
  },
  {
   "cell_type": "code",
   "execution_count": 9,
   "metadata": {},
   "outputs": [
    {
     "data": {
      "text/plain": [
       "55"
      ]
     },
     "execution_count": 9,
     "metadata": {},
     "output_type": "execute_result"
    }
   ],
   "source": [
    "np.sum(dvodimenzijalni_array)"
   ]
  },
  {
   "cell_type": "markdown",
   "metadata": {},
   "source": [
    "Još jedan primjer prije kraja jeste da numpy može generirati random brojeve za nas "
   ]
  },
  {
   "cell_type": "code",
   "execution_count": 10,
   "metadata": {},
   "outputs": [
    {
     "data": {
      "text/plain": [
       "array([0, 1, 2, 3, 4, 5, 6, 7, 8, 9])"
      ]
     },
     "execution_count": 10,
     "metadata": {},
     "output_type": "execute_result"
    }
   ],
   "source": [
    "brojevi = np.arange(start=0, stop=10, step=1) # step je broj za koliko će se uvećavati od starta do stopa\n",
    "brojevi"
   ]
  },
  {
   "cell_type": "markdown",
   "metadata": {},
   "source": [
    "U narednim izlaganjima koja se budu ticala ML-a i DL-a dosta ćemo raditi sa petljama tako da ćemo i ovde dati nekoliko primjera for petlje"
   ]
  },
  {
   "cell_type": "code",
   "execution_count": 11,
   "metadata": {},
   "outputs": [
    {
     "name": "stdout",
     "output_type": "stream",
     "text": [
      "0\n",
      "1\n",
      "2\n",
      "3\n",
      "4\n",
      "5\n",
      "6\n",
      "7\n",
      "8\n",
      "9\n"
     ]
    }
   ],
   "source": [
    "for i in brojevi: \n",
    "    print(i)"
   ]
  },
  {
   "cell_type": "markdown",
   "metadata": {},
   "source": [
    "brojevi = [0, 1, 2, 3, 4, 5, 6, 7, 8, 9] \n",
    "\n",
    "u prvom krugu i = brojevi u indexsu 0 \n",
    "u drugom krugu i se povećava za jedan i = brojevi u indexu 1\n",
    " \n",
    "i tako sve do kraja našeg array-a brojevi"
   ]
  },
  {
   "cell_type": "markdown",
   "metadata": {},
   "source": [
    "Sličnu stvar možemo uraditi i ovako"
   ]
  },
  {
   "cell_type": "code",
   "execution_count": null,
   "metadata": {},
   "outputs": [],
   "source": []
  },
  {
   "cell_type": "code",
   "execution_count": null,
   "metadata": {},
   "outputs": [],
   "source": []
  },
  {
   "cell_type": "code",
   "execution_count": null,
   "metadata": {},
   "outputs": [],
   "source": []
  },
  {
   "cell_type": "code",
   "execution_count": null,
   "metadata": {},
   "outputs": [],
   "source": []
  },
  {
   "cell_type": "code",
   "execution_count": null,
   "metadata": {},
   "outputs": [],
   "source": []
  },
  {
   "cell_type": "code",
   "execution_count": null,
   "metadata": {},
   "outputs": [],
   "source": []
  },
  {
   "cell_type": "code",
   "execution_count": null,
   "metadata": {},
   "outputs": [],
   "source": []
  }
 ],
 "metadata": {
  "kernelspec": {
   "display_name": "Python 3",
   "language": "python",
   "name": "python3"
  },
  "language_info": {
   "codemirror_mode": {
    "name": "ipython",
    "version": 3
   },
   "file_extension": ".py",
   "mimetype": "text/x-python",
   "name": "python",
   "nbconvert_exporter": "python",
   "pygments_lexer": "ipython3",
   "version": "3.8.5"
  }
 },
 "nbformat": 4,
 "nbformat_minor": 4
}
